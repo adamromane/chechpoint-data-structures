{
 "cells": [
  {
   "cell_type": "code",
   "execution_count": 26,
   "id": "c8c8050d",
   "metadata": {},
   "outputs": [],
   "source": [
    "adam=[]"
   ]
  },
  {
   "cell_type": "code",
   "execution_count": 2,
   "id": "18f86dea",
   "metadata": {},
   "outputs": [
    {
     "data": {
      "text/plain": [
       "0"
      ]
     },
     "execution_count": 2,
     "metadata": {},
     "output_type": "execute_result"
    }
   ],
   "source": [
    "len(adam)"
   ]
  },
  {
   "cell_type": "markdown",
   "id": "d9855ae6",
   "metadata": {},
   "source": []
  },
  {
   "cell_type": "code",
   "execution_count": 5,
   "id": "fe67f7f6",
   "metadata": {},
   "outputs": [
    {
     "data": {
      "text/plain": [
       "3"
      ]
     },
     "execution_count": 5,
     "metadata": {},
     "output_type": "execute_result"
    }
   ],
   "source": [
    "adam=[1,2,9]\n",
    "len(adam)"
   ]
  },
  {
   "cell_type": "code",
   "execution_count": 8,
   "id": "f58687c2",
   "metadata": {},
   "outputs": [
    {
     "data": {
      "text/plain": [
       "4"
      ]
     },
     "execution_count": 8,
     "metadata": {},
     "output_type": "execute_result"
    }
   ],
   "source": [
    "adam=[1,\"hello\",3,4]\n",
    "len(adam)"
   ]
  },
  {
   "cell_type": "code",
   "execution_count": 11,
   "id": "f09ccf28",
   "metadata": {},
   "outputs": [
    {
     "name": "stdout",
     "output_type": "stream",
     "text": [
      "java\n"
     ]
    }
   ],
   "source": [
    "adam=[\"python\",\"java\",\"SQL\",\"C++\"]\n",
    "print(adam[1])"
   ]
  },
  {
   "cell_type": "code",
   "execution_count": 12,
   "id": "3ba9221c",
   "metadata": {},
   "outputs": [
    {
     "name": "stdout",
     "output_type": "stream",
     "text": [
      "C++\n"
     ]
    }
   ],
   "source": [
    "adam=[\"python\",\"java\",\"SQL\",\"C++\"]\n",
    "print(adam[-1])"
   ]
  },
  {
   "cell_type": "code",
   "execution_count": 14,
   "id": "4d2ce8d2",
   "metadata": {},
   "outputs": [],
   "source": [
    "\n",
    "my_list=['python', 'java', 'SQL', 'R', 'SAS', 'C++', 'php', 'html', 'Matlab']"
   ]
  },
  {
   "cell_type": "code",
   "execution_count": 15,
   "id": "448118f3",
   "metadata": {},
   "outputs": [],
   "source": [
    "my_list.append(\"adam\")"
   ]
  },
  {
   "cell_type": "code",
   "execution_count": 17,
   "id": "f2253997",
   "metadata": {},
   "outputs": [],
   "source": [
    "my_list.insert(4,\"amani\")"
   ]
  },
  {
   "cell_type": "code",
   "execution_count": 20,
   "id": "a8d9ab35",
   "metadata": {},
   "outputs": [],
   "source": [
    "my_list.remove(\"adam\")"
   ]
  },
  {
   "cell_type": "code",
   "execution_count": 21,
   "id": "0b9cb018",
   "metadata": {},
   "outputs": [
    {
     "data": {
      "text/plain": [
       "['python', 'java', 'SQL', 'amani', 'R', 'SAS', 'C++', 'php', 'html', 'Matlab']"
      ]
     },
     "execution_count": 21,
     "metadata": {},
     "output_type": "execute_result"
    }
   ],
   "source": [
    "my_list"
   ]
  },
  {
   "cell_type": "code",
   "execution_count": 22,
   "id": "9fb2f043",
   "metadata": {},
   "outputs": [],
   "source": [
    "del my_list[0]"
   ]
  },
  {
   "cell_type": "code",
   "execution_count": 23,
   "id": "c9ca2aa5",
   "metadata": {},
   "outputs": [
    {
     "data": {
      "text/plain": [
       "['java', 'SQL', 'amani', 'R', 'SAS', 'C++', 'php', 'html', 'Matlab']"
      ]
     },
     "execution_count": 23,
     "metadata": {},
     "output_type": "execute_result"
    }
   ],
   "source": [
    "my_list"
   ]
  },
  {
   "cell_type": "code",
   "execution_count": 24,
   "id": "4a8ef910",
   "metadata": {},
   "outputs": [
    {
     "data": {
      "text/plain": [
       "['java', 'SQL', 'amani', 'R', 'SAS', 'C++', 'php', 'html', 'Matlab']"
      ]
     },
     "execution_count": 24,
     "metadata": {},
     "output_type": "execute_result"
    }
   ],
   "source": [
    "my_list[:]"
   ]
  },
  {
   "cell_type": "code",
   "execution_count": null,
   "id": "b4d7dacb",
   "metadata": {},
   "outputs": [],
   "source": [
    "my_dictionary =\t{\"knowledge\": \"Data Science\",\"tool\": \"python\",\"year\": 2020}"
   ]
  },
  {
   "cell_type": "code",
   "execution_count": 27,
   "id": "e7a3f21a",
   "metadata": {},
   "outputs": [
    {
     "name": "stdout",
     "output_type": "stream",
     "text": [
      "knowledge\n",
      "tool\n",
      "year\n"
     ]
    }
   ],
   "source": [
    "my_dictionary =\t{\"knowledge\": \"Data Science\",\"tool\": \"python\",\"year\": 2020}\n",
    "\n",
    "    "
   ]
  },
  {
   "cell_type": "code",
   "execution_count": 28,
   "id": "028f9c58",
   "metadata": {},
   "outputs": [
    {
     "name": "stdout",
     "output_type": "stream",
     "text": [
      "knowledge\n",
      "tool\n",
      "year\n"
     ]
    }
   ],
   "source": [
    "for i in my_dictionary.keys():\n",
    "    print(i)"
   ]
  },
  {
   "cell_type": "code",
   "execution_count": 33,
   "id": "46f011d5",
   "metadata": {},
   "outputs": [
    {
     "name": "stdout",
     "output_type": "stream",
     "text": [
      "('knowledge', 'Data Science')\n",
      "('tool', 'python')\n",
      "('year', 2020)\n"
     ]
    }
   ],
   "source": [
    "for item in my_dictionary.items():\n",
    "    print(item)"
   ]
  },
  {
   "cell_type": "code",
   "execution_count": 35,
   "id": "becae405",
   "metadata": {},
   "outputs": [],
   "source": [
    "my_dictionary =\t{\"knowledge\": \"Data Science\",\"tool\": \"python\",\"year\": 2020}\n",
    "\n"
   ]
  },
  {
   "cell_type": "code",
   "execution_count": 36,
   "id": "b7dc27b7",
   "metadata": {},
   "outputs": [],
   "source": [
    "my_dictionary[\"learn\"] = True"
   ]
  },
  {
   "cell_type": "code",
   "execution_count": 37,
   "id": "7d05ce4e",
   "metadata": {},
   "outputs": [
    {
     "data": {
      "text/plain": [
       "{'knowledge': 'Data Science', 'tool': 'python', 'year': 2020, 'learn': True}"
      ]
     },
     "execution_count": 37,
     "metadata": {},
     "output_type": "execute_result"
    }
   ],
   "source": [
    "my_dictionary"
   ]
  },
  {
   "cell_type": "code",
   "execution_count": 38,
   "id": "c1732981",
   "metadata": {},
   "outputs": [
    {
     "data": {
      "text/plain": [
       "'python'"
      ]
     },
     "execution_count": 38,
     "metadata": {},
     "output_type": "execute_result"
    }
   ],
   "source": [
    "my_dictionary.pop(\"tool\")  "
   ]
  },
  {
   "cell_type": "code",
   "execution_count": 39,
   "id": "0fa7aab9",
   "metadata": {},
   "outputs": [
    {
     "data": {
      "text/plain": [
       "{'knowledge': 'Data Science', 'year': 2020, 'learn': True}"
      ]
     },
     "execution_count": 39,
     "metadata": {},
     "output_type": "execute_result"
    }
   ],
   "source": [
    "my_dictionary"
   ]
  },
  {
   "cell_type": "code",
   "execution_count": 40,
   "id": "cada2ce9",
   "metadata": {},
   "outputs": [],
   "source": [
    "del my_dictionary"
   ]
  },
  {
   "cell_type": "code",
   "execution_count": 41,
   "id": "9f29655d",
   "metadata": {},
   "outputs": [
    {
     "ename": "NameError",
     "evalue": "name 'my_dictionary' is not defined",
     "output_type": "error",
     "traceback": [
      "\u001b[1;31m---------------------------------------------------------------------------\u001b[0m",
      "\u001b[1;31mNameError\u001b[0m                                 Traceback (most recent call last)",
      "\u001b[1;32m<ipython-input-41-b22018ba9974>\u001b[0m in \u001b[0;36m<module>\u001b[1;34m\u001b[0m\n\u001b[1;32m----> 1\u001b[1;33m \u001b[0mmy_dictionary\u001b[0m\u001b[1;33m\u001b[0m\u001b[1;33m\u001b[0m\u001b[0m\n\u001b[0m",
      "\u001b[1;31mNameError\u001b[0m: name 'my_dictionary' is not defined"
     ]
    }
   ],
   "source": [
    "my_dictionary"
   ]
  },
  {
   "cell_type": "code",
   "execution_count": 42,
   "id": "f4ac0fe6",
   "metadata": {},
   "outputs": [],
   "source": [
    "my_set = {\"python\", \"java\", \"R\"}\n"
   ]
  },
  {
   "cell_type": "code",
   "execution_count": 43,
   "id": "31a2b982",
   "metadata": {},
   "outputs": [
    {
     "data": {
      "text/plain": [
       "{'R', 'java', 'python'}"
      ]
     },
     "execution_count": 43,
     "metadata": {},
     "output_type": "execute_result"
    }
   ],
   "source": [
    "my_set"
   ]
  },
  {
   "cell_type": "code",
   "execution_count": 44,
   "id": "cd617381",
   "metadata": {},
   "outputs": [],
   "source": [
    "my_set.add(\"scala\")"
   ]
  },
  {
   "cell_type": "code",
   "execution_count": 45,
   "id": "564dc5df",
   "metadata": {},
   "outputs": [
    {
     "name": "stdout",
     "output_type": "stream",
     "text": [
      "{'R', 'java', 'python', 'scala'}\n"
     ]
    }
   ],
   "source": [
    "print(my_set)"
   ]
  },
  {
   "cell_type": "code",
   "execution_count": 46,
   "id": "4b42d685",
   "metadata": {},
   "outputs": [
    {
     "name": "stdout",
     "output_type": "stream",
     "text": [
      "{'R', 'java', 'python', 'scala'}\n"
     ]
    }
   ],
   "source": [
    "print(my_set)"
   ]
  },
  {
   "cell_type": "code",
   "execution_count": 47,
   "id": "daaf8e5f",
   "metadata": {},
   "outputs": [
    {
     "name": "stdout",
     "output_type": "stream",
     "text": [
      "{'java', 'python', 'scala'}\n"
     ]
    }
   ],
   "source": [
    "my_set.remove(\"R\") \n",
    "print(my_set)    "
   ]
  },
  {
   "cell_type": "code",
   "execution_count": 49,
   "id": "83da5035",
   "metadata": {},
   "outputs": [
    {
     "ename": "NameError",
     "evalue": "name 'my_set' is not defined",
     "output_type": "error",
     "traceback": [
      "\u001b[1;31m---------------------------------------------------------------------------\u001b[0m",
      "\u001b[1;31mNameError\u001b[0m                                 Traceback (most recent call last)",
      "\u001b[1;32m<ipython-input-49-f63ebd761831>\u001b[0m in \u001b[0;36m<module>\u001b[1;34m\u001b[0m\n\u001b[1;32m----> 1\u001b[1;33m \u001b[1;32mdel\u001b[0m \u001b[0mmy_set\u001b[0m\u001b[1;33m\u001b[0m\u001b[1;33m\u001b[0m\u001b[0m\n\u001b[0m",
      "\u001b[1;31mNameError\u001b[0m: name 'my_set' is not defined"
     ]
    }
   ],
   "source": [
    "del my_set\n"
   ]
  },
  {
   "cell_type": "code",
   "execution_count": 51,
   "id": "52e0c59c",
   "metadata": {},
   "outputs": [
    {
     "name": "stdout",
     "output_type": "stream",
     "text": [
      "java\n"
     ]
    }
   ],
   "source": [
    "my_tuple=(\"python\", \"java\", \"R\")\n",
    "print(my_tuple[1])"
   ]
  },
  {
   "cell_type": "code",
   "execution_count": 52,
   "id": "e5cca770",
   "metadata": {},
   "outputs": [
    {
     "name": "stdout",
     "output_type": "stream",
     "text": [
      "('a', 'b', 'c', 1, 2, 3)\n"
     ]
    }
   ],
   "source": [
    "tuple1 = (\"a\", \"b\" , \"c\")\n",
    "tuple2 = (1, 2, 3)\n",
    "tuple3 = tuple1 + tuple2\n",
    "print(tuple3) "
   ]
  },
  {
   "cell_type": "code",
   "execution_count": 1,
   "id": "12280a6d",
   "metadata": {},
   "outputs": [
    {
     "ename": "SyntaxError",
     "evalue": "unexpected EOF while parsing (<ipython-input-1-28f6acc0b9a0>, line 2)",
     "output_type": "error",
     "traceback": [
      "\u001b[1;36m  File \u001b[1;32m\"<ipython-input-1-28f6acc0b9a0>\"\u001b[1;36m, line \u001b[1;32m2\u001b[0m\n\u001b[1;33m    for key in my_dictioanry.keys():\u001b[0m\n\u001b[1;37m                                     ^\u001b[0m\n\u001b[1;31mSyntaxError\u001b[0m\u001b[1;31m:\u001b[0m unexpected EOF while parsing\n"
     ]
    }
   ],
   "source": [
    "my_dictionary =\t{\"knowledge\": \"Data Science\",\"tool\": \"python\",\"year\": 2020}\n",
    "for key in my_dictioanry.keys(): "
   ]
  },
  {
   "cell_type": "code",
   "execution_count": null,
   "id": "92a5306e",
   "metadata": {},
   "outputs": [],
   "source": []
  }
 ],
 "metadata": {
  "kernelspec": {
   "display_name": "Python 3",
   "language": "python",
   "name": "python3"
  },
  "language_info": {
   "codemirror_mode": {
    "name": "ipython",
    "version": 3
   },
   "file_extension": ".py",
   "mimetype": "text/x-python",
   "name": "python",
   "nbconvert_exporter": "python",
   "pygments_lexer": "ipython3",
   "version": "3.8.8"
  }
 },
 "nbformat": 4,
 "nbformat_minor": 5
}
